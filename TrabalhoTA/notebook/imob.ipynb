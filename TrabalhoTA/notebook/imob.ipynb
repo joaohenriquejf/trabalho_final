{
 "cells": [
  {
   "cell_type": "code",
   "execution_count": 1,
   "metadata": {
    "collapsed": true,
    "pycharm": {
     "name": "#%%\n"
    }
   },
   "outputs": [],
   "source": [
    "import requests\n",
    "from bs4 import BeautifulSoup"
   ]
  },
  {
   "cell_type": "code",
   "execution_count": 2,
   "outputs": [],
   "source": [
    "agent = {\"User-Agent\":\"Agente Magico\"}"
   ],
   "metadata": {
    "collapsed": false,
    "pycharm": {
     "name": "#%%\n"
    }
   }
  },
  {
   "cell_type": "code",
   "execution_count": 3,
   "outputs": [],
   "source": [
    "def getLastPageVenda():\n",
    "    controle_certo = \"<span class='container'>Nenhum item correspondente à pesquisa </span>\"\n",
    "    controle = \"\"\n",
    "    pagina = 1\n",
    "    last_page = 0\n",
    "    while controle != controle_certo:\n",
    "        url = \"https://www.kanekoimoveis.com.br/imovel_categoria/Casa/\"+ str(pagina)\n",
    "\n",
    "        resposta = requests.get(url, headers=agent)\n",
    "        soup = BeautifulSoup(resposta.text, 'html')\n",
    "        controle = str(soup.h2)\n",
    "        pagina = pagina + 1\n",
    "        last_page = pagina - 2\n",
    "\n",
    "    return last_page"
   ],
   "metadata": {
    "collapsed": false,
    "pycharm": {
     "name": "#%%\n"
    }
   }
  },
  {
   "cell_type": "code",
   "execution_count": 4,
   "outputs": [],
   "source": [
    "def getLastPageAluguel():\n",
    "    controle_certo = \"<span class='container'>Nenhum item correspondente à pesquisa </span>\"\n",
    "    controle = \"\"\n",
    "    pagina = 1\n",
    "    last_page = 0\n",
    "    while controle != controle_certo:\n",
    "        url = \"https://www.kanekoimoveis.com.br/imovel_categoria/Casa/\"+ str(pagina)\n",
    "\n",
    "        resposta = requests.get(url, headers=agent)\n",
    "        soup = BeautifulSoup(resposta.text, 'html')\n",
    "        controle = str(soup.h2)\n",
    "        pagina = pagina + 1\n",
    "        last_page = pagina - 2\n",
    "\n",
    "    return last_page"
   ],
   "metadata": {
    "collapsed": false,
    "pycharm": {
     "name": "#%%\n"
    }
   }
  },
  {
   "cell_type": "code",
   "execution_count": 5,
   "outputs": [],
   "source": [
    "def getLinksAluguel():\n",
    "\n",
    "    imoveis_aluguel = []\n",
    "\n",
    "    for i in range(0,getLastPageAluguel() + 1):\n",
    "        url = \"https://www.kanekoimoveis.com.br/imovel_categoria/Casa/\" + str(i)\n",
    "\n",
    "        resposta = requests.get(url, headers=agent)\n",
    "        soup = BeautifulSoup(resposta.text, 'html')\n",
    "\n",
    "        for link in soup.find_all('a', href = True):\n",
    "            if \"/imovel/\" in link['href']:\n",
    "                imoveis_aluguel.append(link['href'])\n",
    "\n",
    "    imoveis_aluguel = set(imoveis_aluguel)\n",
    "\n",
    "    return list(imoveis_aluguel)"
   ],
   "metadata": {
    "collapsed": false,
    "pycharm": {
     "name": "#%%\n"
    }
   }
  },
  {
   "cell_type": "code",
   "execution_count": 6,
   "outputs": [],
   "source": [
    "def getLinksVenda():\n",
    "\n",
    "    imoveis_venda = []\n",
    "\n",
    "    for i in range(0,getLastPageVenda() + 1):\n",
    "        url = \"https://www.kanekoimoveis.com.br/imovel_categoria/Casa/\" + str(i)\n",
    "\n",
    "        resposta = requests.get(url, headers=agent)\n",
    "        soup = BeautifulSoup(resposta.text, 'html')\n",
    "\n",
    "        for link in soup.find_all('a', href = True):\n",
    "            if \"/imovel_categoria/Casa/\" in link['href']:\n",
    "                imoveis_venda.append(link['href'])\n",
    "\n",
    "    imoveis_venda = set(imoveis_venda)\n",
    "\n",
    "    return list(imoveis_venda)"
   ],
   "metadata": {
    "collapsed": false,
    "pycharm": {
     "name": "#%%\n"
    }
   }
  },
  {
   "cell_type": "markdown",
   "source": [],
   "metadata": {
    "collapsed": false,
    "pycharm": {
     "name": "#%% md\n"
    }
   }
  },
  {
   "cell_type": "code",
   "execution_count": null,
   "outputs": [],
   "source": [
    "imoveis_venda = getLinksVenda()"
   ],
   "metadata": {
    "collapsed": false,
    "pycharm": {
     "is_executing": true,
     "name": "#%%\n"
    }
   }
  },
  {
   "cell_type": "code",
   "execution_count": null,
   "outputs": [],
   "source": [
    "imoveis_venda"
   ],
   "metadata": {
    "collapsed": false,
    "pycharm": {
     "is_executing": true,
     "name": "#%%\n"
    }
   }
  },
  {
   "cell_type": "code",
   "execution_count": null,
   "outputs": [],
   "source": [
    "url = \"https://www.kanekoimoveis.com.br/imoveis/Casa/\" +  list(imoveis_venda)[0]\n",
    "resposta = requests.get(url, headers=agent)\n",
    "soup = BeautifulSoup(resposta.text, 'html')\n",
    "\n",
    "preco = soup.find_all('h4',{'class':'h5 text-center py-3'})\n",
    "\n",
    "\n",
    "spans = soup.find_all('span')\n",
    "\n",
    "\n",
    "print(preco)\n",
    "\n",
    "for element in preco:\n",
    "    price = element.find_all('h4')[1].getText()\n",
    "    valor = price.split()\n",
    "    price_total = valor[1].replace(\".\", \"\")\n",
    "    price_total = price_total.replace(\"R$\",\"\")\n",
    "\n",
    "    print(price_total)"
   ],
   "metadata": {
    "collapsed": false,
    "pycharm": {
     "is_executing": true,
     "name": "#%%\n"
    }
   }
  },
  {
   "cell_type": "code",
   "execution_count": null,
   "outputs": [],
   "source": [],
   "metadata": {
    "collapsed": false,
    "pycharm": {
     "is_executing": true,
     "name": "#%%\n"
    }
   }
  }
 ],
 "metadata": {
  "kernelspec": {
   "display_name": "Python 3",
   "language": "python",
   "name": "python3"
  },
  "language_info": {
   "codemirror_mode": {
    "name": "ipython",
    "version": 2
   },
   "file_extension": ".py",
   "mimetype": "text/x-python",
   "name": "python",
   "nbconvert_exporter": "python",
   "pygments_lexer": "ipython2",
   "version": "2.7.6"
  }
 },
 "nbformat": 4,
 "nbformat_minor": 0
}